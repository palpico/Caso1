{
 "cells": [
  {
   "cell_type": "code",
   "execution_count": 176,
   "metadata": {
    "pycharm": {
     "name": "#%%\n"
    }
   },
   "outputs": [
    {
     "data": {
      "text/plain": "'es_EC'"
     },
     "execution_count": 176,
     "metadata": {},
     "output_type": "execute_result"
    }
   ],
   "source": [
    "import calendar\n",
    "import datetime as dt\n",
    "import re\n",
    "import pandas as pd\n",
    "import matplotlib.pyplot as plt\n",
    "import seaborn as sns\n",
    "import numpy as np\n",
    "import locale"
   ]
  },
  {
   "cell_type": "markdown",
   "source": [
    "locale.setlocale(locale.LC_ALL, 'es_EC')"
   ],
   "metadata": {
    "collapsed": false
   }
  },
  {
   "cell_type": "markdown",
   "metadata": {
    "pycharm": {
     "name": "#%% md\n"
    }
   },
   "source": [
    "File read, we defined to skik the first 4 rows and limited the numbers of rows\n",
    "to read as there is aditional text informacion."
   ]
  },
  {
   "cell_type": "markdown",
   "metadata": {},
   "source": [
    "Index information"
   ]
  },
  {
   "cell_type": "code",
   "execution_count": 177,
   "metadata": {
    "collapsed": true
   },
   "outputs": [
    {
     "data": {
      "text/plain": "   Nivel CIIU3                                        DESCRIPCIÓN   ENE03  \\\n0      0     0                                     ÍNDICE GENERAL  107.71   \n1      1     A       AGRICULTURA, GANADERÍA, CAZA Y SILVICULTURA.  115.56   \n2      2   A01  AGRICULTURA, GANADERÍA, CAZA Y ACTIVIDADES DE ...  115.88   \n\n    FEB03   MAR03   ABR03   MAY03   JUN03   JUL03  ...  MAY20   JUN20   JUL20  \\\n0  110.99  108.94  102.63   98.17  103.65  102.42  ...  70.59   87.59   95.22   \n1  129.23  125.55  122.87  113.35   96.92  112.41  ...  90.53  102.45  102.95   \n2  129.02  125.60  122.75  113.01   96.96  112.52  ...  90.63  102.50  103.06   \n\n    AGO20   SEP20   OCT20   NOV20   DIC20   ENE21   FEB21  \n0   97.12  101.68  104.77  104.65  101.52   97.23  111.08  \n1  102.62  104.94  104.57  102.28  103.49  100.71  113.28  \n2  102.73  105.03  104.68  102.32  103.41  100.63  113.19  \n\n[3 rows x 221 columns]",
      "text/html": "<div>\n<style scoped>\n    .dataframe tbody tr th:only-of-type {\n        vertical-align: middle;\n    }\n\n    .dataframe tbody tr th {\n        vertical-align: top;\n    }\n\n    .dataframe thead th {\n        text-align: right;\n    }\n</style>\n<table border=\"1\" class=\"dataframe\">\n  <thead>\n    <tr style=\"text-align: right;\">\n      <th></th>\n      <th>Nivel</th>\n      <th>CIIU3</th>\n      <th>DESCRIPCIÓN</th>\n      <th>ENE03</th>\n      <th>FEB03</th>\n      <th>MAR03</th>\n      <th>ABR03</th>\n      <th>MAY03</th>\n      <th>JUN03</th>\n      <th>JUL03</th>\n      <th>...</th>\n      <th>MAY20</th>\n      <th>JUN20</th>\n      <th>JUL20</th>\n      <th>AGO20</th>\n      <th>SEP20</th>\n      <th>OCT20</th>\n      <th>NOV20</th>\n      <th>DIC20</th>\n      <th>ENE21</th>\n      <th>FEB21</th>\n    </tr>\n  </thead>\n  <tbody>\n    <tr>\n      <th>0</th>\n      <td>0</td>\n      <td>0</td>\n      <td>ÍNDICE GENERAL</td>\n      <td>107.71</td>\n      <td>110.99</td>\n      <td>108.94</td>\n      <td>102.63</td>\n      <td>98.17</td>\n      <td>103.65</td>\n      <td>102.42</td>\n      <td>...</td>\n      <td>70.59</td>\n      <td>87.59</td>\n      <td>95.22</td>\n      <td>97.12</td>\n      <td>101.68</td>\n      <td>104.77</td>\n      <td>104.65</td>\n      <td>101.52</td>\n      <td>97.23</td>\n      <td>111.08</td>\n    </tr>\n    <tr>\n      <th>1</th>\n      <td>1</td>\n      <td>A</td>\n      <td>AGRICULTURA, GANADERÍA, CAZA Y SILVICULTURA.</td>\n      <td>115.56</td>\n      <td>129.23</td>\n      <td>125.55</td>\n      <td>122.87</td>\n      <td>113.35</td>\n      <td>96.92</td>\n      <td>112.41</td>\n      <td>...</td>\n      <td>90.53</td>\n      <td>102.45</td>\n      <td>102.95</td>\n      <td>102.62</td>\n      <td>104.94</td>\n      <td>104.57</td>\n      <td>102.28</td>\n      <td>103.49</td>\n      <td>100.71</td>\n      <td>113.28</td>\n    </tr>\n    <tr>\n      <th>2</th>\n      <td>2</td>\n      <td>A01</td>\n      <td>AGRICULTURA, GANADERÍA, CAZA Y ACTIVIDADES DE ...</td>\n      <td>115.88</td>\n      <td>129.02</td>\n      <td>125.60</td>\n      <td>122.75</td>\n      <td>113.01</td>\n      <td>96.96</td>\n      <td>112.52</td>\n      <td>...</td>\n      <td>90.63</td>\n      <td>102.50</td>\n      <td>103.06</td>\n      <td>102.73</td>\n      <td>105.03</td>\n      <td>104.68</td>\n      <td>102.32</td>\n      <td>103.41</td>\n      <td>100.63</td>\n      <td>113.19</td>\n    </tr>\n  </tbody>\n</table>\n<p>3 rows × 221 columns</p>\n</div>"
     },
     "execution_count": 177,
     "metadata": {},
     "output_type": "execute_result"
    }
   ],
   "source": [
    "def column_cleaner(col):\n",
    "    dirt = [' ', '.', ',', '*']\n",
    "    new_col = col\n",
    "    for d in dirt:\n",
    "        new_col = new_col.str.replace(d, '')\n",
    "    return new_col\n",
    "\n",
    "\n",
    "file_index = pd.read_csv(\n",
    "    \"data/DECON_INA-R_Serie_historica_ina-r_ene_2003_feb_2021/1. Indices.csv\",\n",
    "    encoding='latin-1',\n",
    "    skiprows=4,\n",
    "    nrows=197,\n",
    "    skipinitialspace=True\n",
    ")\n",
    "file_index.columns = column_cleaner(file_index.columns)\n",
    "file_index.replace('-', '0', regex=True, inplace=True)\n",
    "file_index.replace('\\*', '0', regex=True, inplace=True)\n",
    "file_index.replace('º', ' 0', regex=True, inplace=True)\n",
    "file_index.replace('_', '0', regex=True, inplace=True)\n",
    "file_index = file_index.rename(columns={'DESCRIPCIÓNCIIU3': 'DESCRIPCIÓN'})\n",
    "file_index.head(3)"
   ]
  },
  {
   "cell_type": "markdown",
   "metadata": {
    "pycharm": {
     "name": "#%% md\n"
    }
   },
   "source": [
    "Month variation information"
   ]
  },
  {
   "cell_type": "code",
   "execution_count": 178,
   "metadata": {
    "pycharm": {
     "name": "#%%\n"
    }
   },
   "outputs": [
    {
     "data": {
      "text/plain": "   Nivel CIIU3                                        DESCRIPCIÓN  FEB03  \\\n0      0     0                                  VARIACIÓN MENSUAL   3.04   \n1      1     A       AGRICULTURA, GANADERÍA, CAZA Y SILVICULTURA.  11.83   \n2      2   A01  AGRICULTURA, GANADERÍA, CAZA Y ACTIVIDADES DE ...  11.34   \n\n   MAR03  ABR03  MAY03  JUN03  JUL03  AGO03  ...  MAY20  JUN20 JUL20  AGO20  \\\n0  -1.84  -5.79  -4.35   5.58  -1.19  05.95  ...   5.72  24.09  8.71   2.00   \n1  -2.85  -2.13  -7.75 -14.49  15.98  05.19  ...  01.08  13.17  0.49  00.32   \n2  -2.65  -2.26  -7.94 -14.21  16.05  04.16  ...  00.97  13.10  0.55  00.32   \n\n  SEP20  OCT20  NOV20  DIC20  ENE21  FEB21  \n0  4.69   3.04  00.12  02.98  04.23  14.24  \n1  2.26  00.35  02.19   1.18  02.69  12.48  \n2  2.24  00.34  02.26   1.07  02.68  12.48  \n\n[3 rows x 220 columns]",
      "text/html": "<div>\n<style scoped>\n    .dataframe tbody tr th:only-of-type {\n        vertical-align: middle;\n    }\n\n    .dataframe tbody tr th {\n        vertical-align: top;\n    }\n\n    .dataframe thead th {\n        text-align: right;\n    }\n</style>\n<table border=\"1\" class=\"dataframe\">\n  <thead>\n    <tr style=\"text-align: right;\">\n      <th></th>\n      <th>Nivel</th>\n      <th>CIIU3</th>\n      <th>DESCRIPCIÓN</th>\n      <th>FEB03</th>\n      <th>MAR03</th>\n      <th>ABR03</th>\n      <th>MAY03</th>\n      <th>JUN03</th>\n      <th>JUL03</th>\n      <th>AGO03</th>\n      <th>...</th>\n      <th>MAY20</th>\n      <th>JUN20</th>\n      <th>JUL20</th>\n      <th>AGO20</th>\n      <th>SEP20</th>\n      <th>OCT20</th>\n      <th>NOV20</th>\n      <th>DIC20</th>\n      <th>ENE21</th>\n      <th>FEB21</th>\n    </tr>\n  </thead>\n  <tbody>\n    <tr>\n      <th>0</th>\n      <td>0</td>\n      <td>0</td>\n      <td>VARIACIÓN MENSUAL</td>\n      <td>3.04</td>\n      <td>-1.84</td>\n      <td>-5.79</td>\n      <td>-4.35</td>\n      <td>5.58</td>\n      <td>-1.19</td>\n      <td>05.95</td>\n      <td>...</td>\n      <td>5.72</td>\n      <td>24.09</td>\n      <td>8.71</td>\n      <td>2.00</td>\n      <td>4.69</td>\n      <td>3.04</td>\n      <td>00.12</td>\n      <td>02.98</td>\n      <td>04.23</td>\n      <td>14.24</td>\n    </tr>\n    <tr>\n      <th>1</th>\n      <td>1</td>\n      <td>A</td>\n      <td>AGRICULTURA, GANADERÍA, CAZA Y SILVICULTURA.</td>\n      <td>11.83</td>\n      <td>-2.85</td>\n      <td>-2.13</td>\n      <td>-7.75</td>\n      <td>-14.49</td>\n      <td>15.98</td>\n      <td>05.19</td>\n      <td>...</td>\n      <td>01.08</td>\n      <td>13.17</td>\n      <td>0.49</td>\n      <td>00.32</td>\n      <td>2.26</td>\n      <td>00.35</td>\n      <td>02.19</td>\n      <td>1.18</td>\n      <td>02.69</td>\n      <td>12.48</td>\n    </tr>\n    <tr>\n      <th>2</th>\n      <td>2</td>\n      <td>A01</td>\n      <td>AGRICULTURA, GANADERÍA, CAZA Y ACTIVIDADES DE ...</td>\n      <td>11.34</td>\n      <td>-2.65</td>\n      <td>-2.26</td>\n      <td>-7.94</td>\n      <td>-14.21</td>\n      <td>16.05</td>\n      <td>04.16</td>\n      <td>...</td>\n      <td>00.97</td>\n      <td>13.10</td>\n      <td>0.55</td>\n      <td>00.32</td>\n      <td>2.24</td>\n      <td>00.34</td>\n      <td>02.26</td>\n      <td>1.07</td>\n      <td>02.68</td>\n      <td>12.48</td>\n    </tr>\n  </tbody>\n</table>\n<p>3 rows × 220 columns</p>\n</div>"
     },
     "execution_count": 178,
     "metadata": {},
     "output_type": "execute_result"
    }
   ],
   "source": [
    "file_month = pd.read_csv(\n",
    "    \"data/DECON_INA-R_Serie_historica_ina-r_ene_2003_feb_2021/2. Var Men.csv\",\n",
    "    encoding='latin-1',\n",
    "    skiprows=4,\n",
    "    nrows=197\n",
    ")\n",
    "file_month.columns = column_cleaner(file_month.columns)\n",
    "file_month.replace('-', '0', regex=True, inplace=True)\n",
    "file_month.replace('\\*', '0', regex=True, inplace=True)\n",
    "file_month.replace('º', ' 0', regex=True, inplace=True)\n",
    "file_month.replace('_', '0', regex=True, inplace=True)\n",
    "file_month = file_month.rename(columns={'DESCRIPCIÓNCIIU3': 'DESCRIPCIÓN'})\n",
    "file_month.head(3)"
   ]
  },
  {
   "cell_type": "markdown",
   "metadata": {
    "pycharm": {
     "name": "#%% md\n"
    }
   },
   "source": [
    "Year variation information"
   ]
  },
  {
   "cell_type": "code",
   "execution_count": 179,
   "metadata": {
    "pycharm": {
     "name": "#%%\n"
    }
   },
   "outputs": [
    {
     "data": {
      "text/plain": "   Nivel CIIU3                                        DESCRIPCIÓN  ENE04  \\\n0      0     0                                    VARIACIÓN ANUAL  -2.61   \n1      1     A       AGRICULTURA, GANADERÍA, CAZA Y SILVICULTURA.  -8.43   \n2      2   A01  AGRICULTURA, GANADERÍA, CAZA Y ACTIVIDADES DE ...  -8.66   \n\n   FEB04  MAR04  ABR04  MAY04  JUN04   JUL04  ...   MAY20   JUN20  JUL20  \\\n0  -3.92   2.03   3.86   6.77   4.35   01.37  ...  028.79  013.87  08.09   \n1 -30.18 -30.37 -27.44 -16.67 -10.21  020.50  ...  011.71   02.23  06.04   \n2 -30.37 -30.84 -27.74 -16.87 -10.63  020.93  ...  011.11   02.27  06.06   \n\n   AGO20 SEP20  OCT20  NOV20  DIC20   ENE21  FEB21  \n0  05.31  2.63   7.29   1.83   2.98  011.64  12.30  \n1  03.95  2.42  00.31  01.28  00.55   04.36   8.72  \n2  03.99  2.37  00.39  01.35  00.63   04.39   8.68  \n\n[3 rows x 209 columns]",
      "text/html": "<div>\n<style scoped>\n    .dataframe tbody tr th:only-of-type {\n        vertical-align: middle;\n    }\n\n    .dataframe tbody tr th {\n        vertical-align: top;\n    }\n\n    .dataframe thead th {\n        text-align: right;\n    }\n</style>\n<table border=\"1\" class=\"dataframe\">\n  <thead>\n    <tr style=\"text-align: right;\">\n      <th></th>\n      <th>Nivel</th>\n      <th>CIIU3</th>\n      <th>DESCRIPCIÓN</th>\n      <th>ENE04</th>\n      <th>FEB04</th>\n      <th>MAR04</th>\n      <th>ABR04</th>\n      <th>MAY04</th>\n      <th>JUN04</th>\n      <th>JUL04</th>\n      <th>...</th>\n      <th>MAY20</th>\n      <th>JUN20</th>\n      <th>JUL20</th>\n      <th>AGO20</th>\n      <th>SEP20</th>\n      <th>OCT20</th>\n      <th>NOV20</th>\n      <th>DIC20</th>\n      <th>ENE21</th>\n      <th>FEB21</th>\n    </tr>\n  </thead>\n  <tbody>\n    <tr>\n      <th>0</th>\n      <td>0</td>\n      <td>0</td>\n      <td>VARIACIÓN ANUAL</td>\n      <td>-2.61</td>\n      <td>-3.92</td>\n      <td>2.03</td>\n      <td>3.86</td>\n      <td>6.77</td>\n      <td>4.35</td>\n      <td>01.37</td>\n      <td>...</td>\n      <td>028.79</td>\n      <td>013.87</td>\n      <td>08.09</td>\n      <td>05.31</td>\n      <td>2.63</td>\n      <td>7.29</td>\n      <td>1.83</td>\n      <td>2.98</td>\n      <td>011.64</td>\n      <td>12.30</td>\n    </tr>\n    <tr>\n      <th>1</th>\n      <td>1</td>\n      <td>A</td>\n      <td>AGRICULTURA, GANADERÍA, CAZA Y SILVICULTURA.</td>\n      <td>-8.43</td>\n      <td>-30.18</td>\n      <td>-30.37</td>\n      <td>-27.44</td>\n      <td>-16.67</td>\n      <td>-10.21</td>\n      <td>020.50</td>\n      <td>...</td>\n      <td>011.71</td>\n      <td>02.23</td>\n      <td>06.04</td>\n      <td>03.95</td>\n      <td>2.42</td>\n      <td>00.31</td>\n      <td>01.28</td>\n      <td>00.55</td>\n      <td>04.36</td>\n      <td>8.72</td>\n    </tr>\n    <tr>\n      <th>2</th>\n      <td>2</td>\n      <td>A01</td>\n      <td>AGRICULTURA, GANADERÍA, CAZA Y ACTIVIDADES DE ...</td>\n      <td>-8.66</td>\n      <td>-30.37</td>\n      <td>-30.84</td>\n      <td>-27.74</td>\n      <td>-16.87</td>\n      <td>-10.63</td>\n      <td>020.93</td>\n      <td>...</td>\n      <td>011.11</td>\n      <td>02.27</td>\n      <td>06.06</td>\n      <td>03.99</td>\n      <td>2.37</td>\n      <td>00.39</td>\n      <td>01.35</td>\n      <td>00.63</td>\n      <td>04.39</td>\n      <td>8.68</td>\n    </tr>\n  </tbody>\n</table>\n<p>3 rows × 209 columns</p>\n</div>"
     },
     "execution_count": 179,
     "metadata": {},
     "output_type": "execute_result"
    }
   ],
   "source": [
    "file_year = pd.read_csv(\n",
    "    \"data/DECON_INA-R_Serie_historica_ina-r_ene_2003_feb_2021/3. Var Anual.csv\",\n",
    "    encoding='latin-1',\n",
    "    skiprows=4,\n",
    "    nrows=197\n",
    ")\n",
    "file_year.columns = column_cleaner(file_year.columns)\n",
    "file_year.replace('-', '0', regex=True, inplace=True)\n",
    "file_year.replace('\\*', '0', regex=True, inplace=True)\n",
    "file_year.replace('º', ' 0', regex=True, inplace=True)\n",
    "file_year.replace('_', '0', regex=True, inplace=True)\n",
    "file_year = file_year.rename(columns={'DESCRIPCIÓNCIIU3': 'DESCRIPCIÓN'})\n",
    "file_year.head(3)"
   ]
  },
  {
   "cell_type": "markdown",
   "metadata": {},
   "source": [
    "Find nan values"
   ]
  },
  {
   "cell_type": "code",
   "execution_count": 180,
   "outputs": [
    {
     "data": {
      "text/plain": "Nivel          0\nCIIU3          0\nDESCRIPCIÓN    0\nENE03          0\nFEB03          0\n              ..\nOCT20          2\nNOV20          2\nDIC20          2\nENE21          2\nFEB21          2\nLength: 221, dtype: int64"
     },
     "execution_count": 180,
     "metadata": {},
     "output_type": "execute_result"
    }
   ],
   "source": [
    "file_index.isnull().sum()"
   ],
   "metadata": {
    "collapsed": false,
    "pycharm": {
     "name": "#%%\n"
    }
   }
  },
  {
   "cell_type": "code",
   "execution_count": 181,
   "outputs": [
    {
     "data": {
      "text/plain": "Nivel          0\nCIIU3          0\nDESCRIPCIÓN    0\nFEB03          0\nMAR03          0\n              ..\nOCT20          0\nNOV20          0\nDIC20          0\nENE21          0\nFEB21          0\nLength: 220, dtype: int64"
     },
     "execution_count": 181,
     "metadata": {},
     "output_type": "execute_result"
    }
   ],
   "source": [
    "file_month.isnull().sum()"
   ],
   "metadata": {
    "collapsed": false,
    "pycharm": {
     "name": "#%%\n"
    }
   }
  },
  {
   "cell_type": "code",
   "execution_count": 182,
   "outputs": [
    {
     "data": {
      "text/plain": "Nivel          0\nCIIU3          0\nDESCRIPCIÓN    0\nENE04          0\nFEB04          0\n              ..\nOCT20          0\nNOV20          0\nDIC20          0\nENE21          0\nFEB21          0\nLength: 209, dtype: int64"
     },
     "execution_count": 182,
     "metadata": {},
     "output_type": "execute_result"
    }
   ],
   "source": [
    "file_year.isnull().sum()"
   ],
   "metadata": {
    "collapsed": false,
    "pycharm": {
     "name": "#%%\n"
    }
   }
  },
  {
   "cell_type": "markdown",
   "source": [
    "Fix nan values"
   ],
   "metadata": {
    "collapsed": false
   }
  },
  {
   "cell_type": "code",
   "execution_count": 183,
   "outputs": [
    {
     "data": {
      "text/plain": "     Nivel CIIU3                                        DESCRIPCIÓN  ENE04  \\\n0        0     0                                    VARIACIÓN ANUAL  -2.61   \n1        1     A       AGRICULTURA, GANADERÍA, CAZA Y SILVICULTURA.  -8.43   \n2        2   A01  AGRICULTURA, GANADERÍA, CAZA Y ACTIVIDADES DE ...  -8.66   \n3        3  A011  CULTIVOS EN GENERAL; CULTIVOS DE PRODUCTOS DE ...  -9.91   \n4        3  A012                       CRÍA DE ANIMALES DOMÉSTICOS.   7.26   \n..     ...   ...                                                ...    ...   \n192      2   O92  ACTIVIDADES DE ESPARCIMIENTO Y ACTIVIDADES CUL...   6.44   \n193      3  O921  ACTIVIDADES DE CINEMATOGRAFÍA, RADIO Y TELEVIS...   4.95   \n194      3  O924  ACTIVIDADES DEPORTIVAS Y OTRAS ACTIVIDADES DE ...   3.58   \n195      2   O93                OTRAS ACTIVIDADES DE TIPO SERVICIO. -23.25   \n196      3  O930                OTRAS ACTIVIDADES DE TIPO SERVICIO. -23.25   \n\n     FEB04  MAR04  ABR04  MAY04  JUN04   JUL04  ...   MAY20   JUN20   JUL20  \\\n0    -3.92   2.03   3.86   6.77   4.35   01.37  ...  028.79  013.87   08.09   \n1   -30.18 -30.37 -27.44 -16.67 -10.21  020.50  ...  011.71   02.23   06.04   \n2   -30.37 -30.84 -27.74 -16.87 -10.63  020.93  ...  011.11   02.27   06.06   \n3   -33.87 -34.97 -30.83 -20.37 -14.26  023.78  ...  010.10   07.25   07.78   \n4    12.15  12.43   3.91  24.51  25.81    5.51  ...  016.75    1.33   07.08   \n..     ...    ...    ...    ...    ...     ...  ...     ...     ...     ...   \n192  15.16  10.75   8.91  16.22   3.91    5.86  ...  068.19  057.67  052.39   \n193  21.97  20.63  10.02   8.30   6.34    7.46  ...  080.00  069.97  064.36   \n194 -19.04 -32.87  -4.38  55.42 -15.52   06.22  ...  038.69  026.55  022.31   \n195 -16.93 -13.07 -10.55  -2.98   1.29   07.50  ...   09.40  011.54   02.95   \n196 -16.93 -13.07 -10.55  -2.98   1.29   07.50  ...   09.40  011.54   02.95   \n\n      AGO20   SEP20   OCT20  NOV20   DIC20   ENE21  FEB21  \n0     05.31    2.63    7.29   1.83    2.98  011.64  12.30  \n1     03.95    2.42   00.31  01.28   00.55   04.36   8.72  \n2     03.99    2.37   00.39  01.35   00.63   04.39   8.68  \n3     05.30   01.31   04.59  02.98   02.11    3.53   5.98  \n4     07.47    3.16    4.57  00.09    3.64  017.57  11.14  \n..      ...     ...     ...    ...     ...     ...    ...  \n192  048.66   04.74   08.02   2.63   01.95  030.26  33.90  \n193  058.75  011.85  014.59   2.95    3.12  043.09  39.89  \n194  034.30   12.60    2.22   7.35  010.03   07.68  17.11  \n195   05.44   12.81    5.56  00.38  015.43  024.52   7.88  \n196   05.44   12.81    5.56  00.38  015.43  024.52   7.88  \n\n[197 rows x 209 columns]",
      "text/html": "<div>\n<style scoped>\n    .dataframe tbody tr th:only-of-type {\n        vertical-align: middle;\n    }\n\n    .dataframe tbody tr th {\n        vertical-align: top;\n    }\n\n    .dataframe thead th {\n        text-align: right;\n    }\n</style>\n<table border=\"1\" class=\"dataframe\">\n  <thead>\n    <tr style=\"text-align: right;\">\n      <th></th>\n      <th>Nivel</th>\n      <th>CIIU3</th>\n      <th>DESCRIPCIÓN</th>\n      <th>ENE04</th>\n      <th>FEB04</th>\n      <th>MAR04</th>\n      <th>ABR04</th>\n      <th>MAY04</th>\n      <th>JUN04</th>\n      <th>JUL04</th>\n      <th>...</th>\n      <th>MAY20</th>\n      <th>JUN20</th>\n      <th>JUL20</th>\n      <th>AGO20</th>\n      <th>SEP20</th>\n      <th>OCT20</th>\n      <th>NOV20</th>\n      <th>DIC20</th>\n      <th>ENE21</th>\n      <th>FEB21</th>\n    </tr>\n  </thead>\n  <tbody>\n    <tr>\n      <th>0</th>\n      <td>0</td>\n      <td>0</td>\n      <td>VARIACIÓN ANUAL</td>\n      <td>-2.61</td>\n      <td>-3.92</td>\n      <td>2.03</td>\n      <td>3.86</td>\n      <td>6.77</td>\n      <td>4.35</td>\n      <td>01.37</td>\n      <td>...</td>\n      <td>028.79</td>\n      <td>013.87</td>\n      <td>08.09</td>\n      <td>05.31</td>\n      <td>2.63</td>\n      <td>7.29</td>\n      <td>1.83</td>\n      <td>2.98</td>\n      <td>011.64</td>\n      <td>12.30</td>\n    </tr>\n    <tr>\n      <th>1</th>\n      <td>1</td>\n      <td>A</td>\n      <td>AGRICULTURA, GANADERÍA, CAZA Y SILVICULTURA.</td>\n      <td>-8.43</td>\n      <td>-30.18</td>\n      <td>-30.37</td>\n      <td>-27.44</td>\n      <td>-16.67</td>\n      <td>-10.21</td>\n      <td>020.50</td>\n      <td>...</td>\n      <td>011.71</td>\n      <td>02.23</td>\n      <td>06.04</td>\n      <td>03.95</td>\n      <td>2.42</td>\n      <td>00.31</td>\n      <td>01.28</td>\n      <td>00.55</td>\n      <td>04.36</td>\n      <td>8.72</td>\n    </tr>\n    <tr>\n      <th>2</th>\n      <td>2</td>\n      <td>A01</td>\n      <td>AGRICULTURA, GANADERÍA, CAZA Y ACTIVIDADES DE ...</td>\n      <td>-8.66</td>\n      <td>-30.37</td>\n      <td>-30.84</td>\n      <td>-27.74</td>\n      <td>-16.87</td>\n      <td>-10.63</td>\n      <td>020.93</td>\n      <td>...</td>\n      <td>011.11</td>\n      <td>02.27</td>\n      <td>06.06</td>\n      <td>03.99</td>\n      <td>2.37</td>\n      <td>00.39</td>\n      <td>01.35</td>\n      <td>00.63</td>\n      <td>04.39</td>\n      <td>8.68</td>\n    </tr>\n    <tr>\n      <th>3</th>\n      <td>3</td>\n      <td>A011</td>\n      <td>CULTIVOS EN GENERAL; CULTIVOS DE PRODUCTOS DE ...</td>\n      <td>-9.91</td>\n      <td>-33.87</td>\n      <td>-34.97</td>\n      <td>-30.83</td>\n      <td>-20.37</td>\n      <td>-14.26</td>\n      <td>023.78</td>\n      <td>...</td>\n      <td>010.10</td>\n      <td>07.25</td>\n      <td>07.78</td>\n      <td>05.30</td>\n      <td>01.31</td>\n      <td>04.59</td>\n      <td>02.98</td>\n      <td>02.11</td>\n      <td>3.53</td>\n      <td>5.98</td>\n    </tr>\n    <tr>\n      <th>4</th>\n      <td>3</td>\n      <td>A012</td>\n      <td>CRÍA DE ANIMALES DOMÉSTICOS.</td>\n      <td>7.26</td>\n      <td>12.15</td>\n      <td>12.43</td>\n      <td>3.91</td>\n      <td>24.51</td>\n      <td>25.81</td>\n      <td>5.51</td>\n      <td>...</td>\n      <td>016.75</td>\n      <td>1.33</td>\n      <td>07.08</td>\n      <td>07.47</td>\n      <td>3.16</td>\n      <td>4.57</td>\n      <td>00.09</td>\n      <td>3.64</td>\n      <td>017.57</td>\n      <td>11.14</td>\n    </tr>\n    <tr>\n      <th>...</th>\n      <td>...</td>\n      <td>...</td>\n      <td>...</td>\n      <td>...</td>\n      <td>...</td>\n      <td>...</td>\n      <td>...</td>\n      <td>...</td>\n      <td>...</td>\n      <td>...</td>\n      <td>...</td>\n      <td>...</td>\n      <td>...</td>\n      <td>...</td>\n      <td>...</td>\n      <td>...</td>\n      <td>...</td>\n      <td>...</td>\n      <td>...</td>\n      <td>...</td>\n      <td>...</td>\n    </tr>\n    <tr>\n      <th>192</th>\n      <td>2</td>\n      <td>O92</td>\n      <td>ACTIVIDADES DE ESPARCIMIENTO Y ACTIVIDADES CUL...</td>\n      <td>6.44</td>\n      <td>15.16</td>\n      <td>10.75</td>\n      <td>8.91</td>\n      <td>16.22</td>\n      <td>3.91</td>\n      <td>5.86</td>\n      <td>...</td>\n      <td>068.19</td>\n      <td>057.67</td>\n      <td>052.39</td>\n      <td>048.66</td>\n      <td>04.74</td>\n      <td>08.02</td>\n      <td>2.63</td>\n      <td>01.95</td>\n      <td>030.26</td>\n      <td>33.90</td>\n    </tr>\n    <tr>\n      <th>193</th>\n      <td>3</td>\n      <td>O921</td>\n      <td>ACTIVIDADES DE CINEMATOGRAFÍA, RADIO Y TELEVIS...</td>\n      <td>4.95</td>\n      <td>21.97</td>\n      <td>20.63</td>\n      <td>10.02</td>\n      <td>8.30</td>\n      <td>6.34</td>\n      <td>7.46</td>\n      <td>...</td>\n      <td>080.00</td>\n      <td>069.97</td>\n      <td>064.36</td>\n      <td>058.75</td>\n      <td>011.85</td>\n      <td>014.59</td>\n      <td>2.95</td>\n      <td>3.12</td>\n      <td>043.09</td>\n      <td>39.89</td>\n    </tr>\n    <tr>\n      <th>194</th>\n      <td>3</td>\n      <td>O924</td>\n      <td>ACTIVIDADES DEPORTIVAS Y OTRAS ACTIVIDADES DE ...</td>\n      <td>3.58</td>\n      <td>-19.04</td>\n      <td>-32.87</td>\n      <td>-4.38</td>\n      <td>55.42</td>\n      <td>-15.52</td>\n      <td>06.22</td>\n      <td>...</td>\n      <td>038.69</td>\n      <td>026.55</td>\n      <td>022.31</td>\n      <td>034.30</td>\n      <td>12.60</td>\n      <td>2.22</td>\n      <td>7.35</td>\n      <td>010.03</td>\n      <td>07.68</td>\n      <td>17.11</td>\n    </tr>\n    <tr>\n      <th>195</th>\n      <td>2</td>\n      <td>O93</td>\n      <td>OTRAS ACTIVIDADES DE TIPO SERVICIO.</td>\n      <td>-23.25</td>\n      <td>-16.93</td>\n      <td>-13.07</td>\n      <td>-10.55</td>\n      <td>-2.98</td>\n      <td>1.29</td>\n      <td>07.50</td>\n      <td>...</td>\n      <td>09.40</td>\n      <td>011.54</td>\n      <td>02.95</td>\n      <td>05.44</td>\n      <td>12.81</td>\n      <td>5.56</td>\n      <td>00.38</td>\n      <td>015.43</td>\n      <td>024.52</td>\n      <td>7.88</td>\n    </tr>\n    <tr>\n      <th>196</th>\n      <td>3</td>\n      <td>O930</td>\n      <td>OTRAS ACTIVIDADES DE TIPO SERVICIO.</td>\n      <td>-23.25</td>\n      <td>-16.93</td>\n      <td>-13.07</td>\n      <td>-10.55</td>\n      <td>-2.98</td>\n      <td>1.29</td>\n      <td>07.50</td>\n      <td>...</td>\n      <td>09.40</td>\n      <td>011.54</td>\n      <td>02.95</td>\n      <td>05.44</td>\n      <td>12.81</td>\n      <td>5.56</td>\n      <td>00.38</td>\n      <td>015.43</td>\n      <td>024.52</td>\n      <td>7.88</td>\n    </tr>\n  </tbody>\n</table>\n<p>197 rows × 209 columns</p>\n</div>"
     },
     "execution_count": 183,
     "metadata": {},
     "output_type": "execute_result"
    }
   ],
   "source": [
    "file_index.fillna(0)\n",
    "file_month.fillna(0)\n",
    "file_year.fillna(0)"
   ],
   "metadata": {
    "collapsed": false,
    "pycharm": {
     "name": "#%%\n"
    }
   }
  },
  {
   "cell_type": "code",
   "source": [],
   "metadata": {
    "collapsed": false,
    "pycharm": {
     "name": "#%%\n"
    }
   },
   "execution_count": 183,
   "outputs": []
  },
  {
   "cell_type": "markdown",
   "source": [],
   "metadata": {
    "collapsed": false
   }
  },
  {
   "cell_type": "code",
   "source": [
    "def pivoter(df_arg):\n",
    "    pivot_df = df_arg.melt(id_vars=['Nivel', 'CIIU3', 'DESCRIPCIÓN'])\n",
    "    pivot_df.variable.replace('.', '', inplace=True)\n",
    "    pivot_df['MONTH_ABBR'] = pivot_df.variable.astype(str).str[:3] + '.'\n",
    "    pivot_df['YEAR'] = '20' + pivot_df.variable.astype(str).str[3:]\n",
    "    pivot_df['MONTH_NUM'] = pivot_df['MONTH_ABBR'].apply(lambda x: list(calendar.month_abbr).index(x.lower()))\n",
    "    pivot_df['MONTH'] = pivot_df['MONTH_ABBR'].apply(\n",
    "        lambda x: calendar.month_name[list(calendar.month_abbr).index(x.lower())].capitalize())\n",
    "    del pivot_df['variable']\n",
    "    pivot_df['FECHA']=pivot_df['YEAR'].astype(str)+'-'+pivot_df['MONTH_NUM'].astype(str)\n",
    "    pivot_df.rename(columns={'value':'VALOR'},inplace=True)\n",
    "    return pivot_df"
   ],
   "metadata": {
    "collapsed": false,
    "pycharm": {
     "name": "#%%\n"
    }
   },
   "execution_count": 184,
   "outputs": []
  },
  {
   "cell_type": "markdown",
   "source": [
    "Separate records by level"
   ],
   "metadata": {
    "collapsed": false
   }
  },
  {
   "cell_type": "code",
   "execution_count": 184,
   "outputs": [],
   "source": [],
   "metadata": {
    "collapsed": false,
    "pycharm": {
     "name": "#%%\n"
    }
   }
  },
  {
   "cell_type": "code",
   "execution_count": 185,
   "metadata": {
    "pycharm": {
     "name": "#%%\n"
    }
   },
   "outputs": [],
   "source": [
    "def df_level(df_arg):\n",
    "    # arg_df[\"\"]=arg_df[]+arg_df[]\n",
    "    arg_df = df_arg\n",
    "    df0 = arg_df[arg_df.Nivel == 0]\n",
    "    df1 = arg_df[arg_df.Nivel == 1]\n",
    "    df2 = arg_df[arg_df.Nivel == 2]\n",
    "    df3 = arg_df[arg_df.Nivel == 3]\n",
    "    # a_dataframe[\"AB\"] = a_dataframe[\"A\"] + a_dataframe[\"B\"]\n",
    "    return df0, df1, df2, df3\n",
    "\n",
    "\n"
   ]
  },
  {
   "cell_type": "code",
   "execution_count": 186,
   "outputs": [],
   "source": [
    "index0, index1, index2, index3 = df_level(file_index)\n",
    "year0, year1, year2, year3 = df_level(file_year)\n",
    "month0, month1, month2, month3 = df_level(file_month)\n",
    "indexs = [index0, index1, index2, index3]\n",
    "months = [month0, month1, month2, month3]\n",
    "years = [year0, year1, year2, year3]\n",
    "\n",
    "# file_index.to_csv(r'./data/cleaned/index.csv', index=False, header=True)\n",
    "# file_month.to_csv(r'./data/cleaned/month.csv', index=False, header=True)\n",
    "# file_year.to_csv(r'./data/cleaned/year.csv', index=False, header=True)\n",
    "pivoter(file_index).to_csv(r'./data/cleaned/index.csv', index=False, header=True)\n",
    "pivoter(file_month).to_csv(r'./data/cleaned/month.csv', index=False, header=True)\n",
    "pivoter(file_year).to_csv(r'./data/cleaned/year.csv', index=False, header=True)\n",
    "for i in range(len(indexs)):\n",
    "    indexs[i].to_csv(r'./data/cleaned/index{}.csv'.format(i), index=False, header=True)\n",
    "    months[i].to_csv(r'./data/cleaned/month{}.csv'.format(i), index=False, header=True)\n",
    "    years[i].to_csv(r'./data/cleaned/year{}.csv'.format(i), index=False, header=True)"
   ],
   "metadata": {
    "collapsed": false,
    "pycharm": {
     "name": "#%%\n"
    }
   }
  },
  {
   "cell_type": "code",
   "execution_count": 187,
   "metadata": {
    "pycharm": {
     "name": "#%%\n"
    }
   },
   "outputs": [],
   "source": [
    "def group(arg_df):\n",
    "    grouped = arg_df.groupby(lambda col: col[4:6], axis=1)\n",
    "    grouped.rename(columns={'3': 'CIIU3', 'RI': 'descripcion', 'l': 'Nivel'}, inplace=True)\n",
    "    return grouped"
   ]
  },
  {
   "cell_type": "code",
   "execution_count": 188,
   "outputs": [
    {
     "data": {
      "text/plain": "            Nivel       ENE03       FEB03       MAR03       ABR03       MAY03  \\\ncount  197.000000  197.000000  197.000000  197.000000  197.000000  197.000000   \nmean     2.548223  109.171269  111.693198  106.394365  103.021827  100.262132   \nstd      0.657732   21.589099   18.865471   18.769481   15.845571   17.481445   \nmin      0.000000    8.360000   59.220000   46.360000   51.260000   14.820000   \n25%      2.000000  100.000000  101.800000   97.680000   95.930000   96.380000   \n50%      3.000000  106.860000  108.240000  103.540000  102.060000  100.000000   \n75%      3.000000  115.560000  116.120000  110.900000  110.240000  105.950000   \nmax      3.000000  190.250000  212.260000  195.830000  176.280000  154.210000   \n\n            JUN03       JUL03       AGO03       SEP03  ...       MAY20  \\\ncount  197.000000  197.000000  197.000000  197.000000  ...  195.000000   \nmean   103.809188  102.792741   93.019442   96.857360  ...   69.933333   \nstd     13.841754   18.965071   20.197722   19.123892  ...   22.684369   \nmin     68.020000    0.000000    0.000000    0.000000  ...    0.000000   \n25%     97.060000   99.410000   89.550000   91.090000  ...   56.520000   \n50%    101.650000  103.600000   96.490000   99.430000  ...   68.910000   \n75%    108.230000  107.520000  102.510000  105.270000  ...   82.395000   \nmax    156.460000  187.700000  155.670000  197.000000  ...  131.850000   \n\n            JUN20       JUL20       AGO20       SEP20       OCT20       NOV20  \\\ncount  195.000000  195.000000  195.000000  195.000000  195.000000  195.000000   \nmean    89.910974   95.912923   95.996821  103.795179  105.610410  103.936051   \nstd     29.780050   23.737812   24.961320   25.903626   22.176189   20.907447   \nmin      0.000000    0.000000    0.000000    0.000000    7.800000    0.000000   \n25%     79.175000   85.755000   85.525000   93.005000   94.350000   96.365000   \n50%     90.120000   97.200000   95.460000  102.520000  104.230000  104.720000   \n75%     99.855000  106.140000  106.135000  109.750000  114.075000  111.865000   \nmax    269.140000  160.470000  250.130000  266.360000  187.170000  204.900000   \n\n            DIC20       ENE21       FEB21  \ncount  195.000000  195.000000  195.000000  \nmean   104.322615   99.193897  107.834513  \nstd     25.622519   26.220621   21.292373  \nmin      0.000000    0.000000    0.000000  \n25%     92.455000   87.005000   99.760000  \n50%    103.580000   96.950000  109.550000  \n75%    114.060000  108.990000  119.040000  \nmax    224.450000  278.590000  179.610000  \n\n[8 rows x 218 columns]",
      "text/html": "<div>\n<style scoped>\n    .dataframe tbody tr th:only-of-type {\n        vertical-align: middle;\n    }\n\n    .dataframe tbody tr th {\n        vertical-align: top;\n    }\n\n    .dataframe thead th {\n        text-align: right;\n    }\n</style>\n<table border=\"1\" class=\"dataframe\">\n  <thead>\n    <tr style=\"text-align: right;\">\n      <th></th>\n      <th>Nivel</th>\n      <th>ENE03</th>\n      <th>FEB03</th>\n      <th>MAR03</th>\n      <th>ABR03</th>\n      <th>MAY03</th>\n      <th>JUN03</th>\n      <th>JUL03</th>\n      <th>AGO03</th>\n      <th>SEP03</th>\n      <th>...</th>\n      <th>MAY20</th>\n      <th>JUN20</th>\n      <th>JUL20</th>\n      <th>AGO20</th>\n      <th>SEP20</th>\n      <th>OCT20</th>\n      <th>NOV20</th>\n      <th>DIC20</th>\n      <th>ENE21</th>\n      <th>FEB21</th>\n    </tr>\n  </thead>\n  <tbody>\n    <tr>\n      <th>count</th>\n      <td>197.000000</td>\n      <td>197.000000</td>\n      <td>197.000000</td>\n      <td>197.000000</td>\n      <td>197.000000</td>\n      <td>197.000000</td>\n      <td>197.000000</td>\n      <td>197.000000</td>\n      <td>197.000000</td>\n      <td>197.000000</td>\n      <td>...</td>\n      <td>195.000000</td>\n      <td>195.000000</td>\n      <td>195.000000</td>\n      <td>195.000000</td>\n      <td>195.000000</td>\n      <td>195.000000</td>\n      <td>195.000000</td>\n      <td>195.000000</td>\n      <td>195.000000</td>\n      <td>195.000000</td>\n    </tr>\n    <tr>\n      <th>mean</th>\n      <td>2.548223</td>\n      <td>109.171269</td>\n      <td>111.693198</td>\n      <td>106.394365</td>\n      <td>103.021827</td>\n      <td>100.262132</td>\n      <td>103.809188</td>\n      <td>102.792741</td>\n      <td>93.019442</td>\n      <td>96.857360</td>\n      <td>...</td>\n      <td>69.933333</td>\n      <td>89.910974</td>\n      <td>95.912923</td>\n      <td>95.996821</td>\n      <td>103.795179</td>\n      <td>105.610410</td>\n      <td>103.936051</td>\n      <td>104.322615</td>\n      <td>99.193897</td>\n      <td>107.834513</td>\n    </tr>\n    <tr>\n      <th>std</th>\n      <td>0.657732</td>\n      <td>21.589099</td>\n      <td>18.865471</td>\n      <td>18.769481</td>\n      <td>15.845571</td>\n      <td>17.481445</td>\n      <td>13.841754</td>\n      <td>18.965071</td>\n      <td>20.197722</td>\n      <td>19.123892</td>\n      <td>...</td>\n      <td>22.684369</td>\n      <td>29.780050</td>\n      <td>23.737812</td>\n      <td>24.961320</td>\n      <td>25.903626</td>\n      <td>22.176189</td>\n      <td>20.907447</td>\n      <td>25.622519</td>\n      <td>26.220621</td>\n      <td>21.292373</td>\n    </tr>\n    <tr>\n      <th>min</th>\n      <td>0.000000</td>\n      <td>8.360000</td>\n      <td>59.220000</td>\n      <td>46.360000</td>\n      <td>51.260000</td>\n      <td>14.820000</td>\n      <td>68.020000</td>\n      <td>0.000000</td>\n      <td>0.000000</td>\n      <td>0.000000</td>\n      <td>...</td>\n      <td>0.000000</td>\n      <td>0.000000</td>\n      <td>0.000000</td>\n      <td>0.000000</td>\n      <td>0.000000</td>\n      <td>7.800000</td>\n      <td>0.000000</td>\n      <td>0.000000</td>\n      <td>0.000000</td>\n      <td>0.000000</td>\n    </tr>\n    <tr>\n      <th>25%</th>\n      <td>2.000000</td>\n      <td>100.000000</td>\n      <td>101.800000</td>\n      <td>97.680000</td>\n      <td>95.930000</td>\n      <td>96.380000</td>\n      <td>97.060000</td>\n      <td>99.410000</td>\n      <td>89.550000</td>\n      <td>91.090000</td>\n      <td>...</td>\n      <td>56.520000</td>\n      <td>79.175000</td>\n      <td>85.755000</td>\n      <td>85.525000</td>\n      <td>93.005000</td>\n      <td>94.350000</td>\n      <td>96.365000</td>\n      <td>92.455000</td>\n      <td>87.005000</td>\n      <td>99.760000</td>\n    </tr>\n    <tr>\n      <th>50%</th>\n      <td>3.000000</td>\n      <td>106.860000</td>\n      <td>108.240000</td>\n      <td>103.540000</td>\n      <td>102.060000</td>\n      <td>100.000000</td>\n      <td>101.650000</td>\n      <td>103.600000</td>\n      <td>96.490000</td>\n      <td>99.430000</td>\n      <td>...</td>\n      <td>68.910000</td>\n      <td>90.120000</td>\n      <td>97.200000</td>\n      <td>95.460000</td>\n      <td>102.520000</td>\n      <td>104.230000</td>\n      <td>104.720000</td>\n      <td>103.580000</td>\n      <td>96.950000</td>\n      <td>109.550000</td>\n    </tr>\n    <tr>\n      <th>75%</th>\n      <td>3.000000</td>\n      <td>115.560000</td>\n      <td>116.120000</td>\n      <td>110.900000</td>\n      <td>110.240000</td>\n      <td>105.950000</td>\n      <td>108.230000</td>\n      <td>107.520000</td>\n      <td>102.510000</td>\n      <td>105.270000</td>\n      <td>...</td>\n      <td>82.395000</td>\n      <td>99.855000</td>\n      <td>106.140000</td>\n      <td>106.135000</td>\n      <td>109.750000</td>\n      <td>114.075000</td>\n      <td>111.865000</td>\n      <td>114.060000</td>\n      <td>108.990000</td>\n      <td>119.040000</td>\n    </tr>\n    <tr>\n      <th>max</th>\n      <td>3.000000</td>\n      <td>190.250000</td>\n      <td>212.260000</td>\n      <td>195.830000</td>\n      <td>176.280000</td>\n      <td>154.210000</td>\n      <td>156.460000</td>\n      <td>187.700000</td>\n      <td>155.670000</td>\n      <td>197.000000</td>\n      <td>...</td>\n      <td>131.850000</td>\n      <td>269.140000</td>\n      <td>160.470000</td>\n      <td>250.130000</td>\n      <td>266.360000</td>\n      <td>187.170000</td>\n      <td>204.900000</td>\n      <td>224.450000</td>\n      <td>278.590000</td>\n      <td>179.610000</td>\n    </tr>\n  </tbody>\n</table>\n<p>8 rows × 218 columns</p>\n</div>"
     },
     "execution_count": 188,
     "metadata": {},
     "output_type": "execute_result"
    }
   ],
   "source": [
    "file_index.describe()"
   ],
   "metadata": {
    "collapsed": false,
    "pycharm": {
     "name": "#%%\n"
    }
   }
  },
  {
   "cell_type": "code",
   "execution_count": 189,
   "metadata": {
    "pycharm": {
     "name": "#%%\n"
    }
   },
   "outputs": [
    {
     "data": {
      "text/plain": "       Nivel       ENE03       FEB03       MAR03       ABR03       MAY03  \\\ncount   15.0   15.000000   15.000000   15.000000   15.000000   15.000000   \nmean     1.0  109.894667  110.592000  107.561333  103.938667   99.491333   \nstd      0.0   11.224991   14.071349   14.242913   10.034988   12.588717   \nmin      1.0   86.000000   93.150000   76.250000   80.090000   63.080000   \n25%      1.0  104.575000  102.915000  102.395000  100.240000   98.440000   \n50%      1.0  111.280000  107.560000  107.720000  103.860000  101.780000   \n75%      1.0  114.840000  112.570000  111.710000  109.640000  106.165000   \nmax      1.0  133.490000  149.600000  142.030000  122.870000  114.440000   \n\n            JUN03       JUL03       AGO03       SEP03  ...      MAY20  \\\ncount   15.000000   15.000000   15.000000   15.000000  ...   15.00000   \nmean   102.188000  104.813333   96.472667   98.510667  ...   73.36400   \nstd     10.450274    6.675658    9.720181    7.638541  ...   19.70292   \nmin     74.910000   85.230000   74.250000   81.240000  ...   46.21000   \n25%     99.180000  103.110000   93.135000   94.340000  ...   59.56000   \n50%    100.800000  106.150000   98.700000  101.290000  ...   67.06000   \n75%    106.015000  107.975000  101.240000  103.065000  ...   85.91500   \nmax    121.670000  114.010000  113.820000  109.580000  ...  118.14000   \n\n            JUN20       JUL20       AGO20       SEP20       OCT20       NOV20  \\\ncount   15.000000   15.000000   15.000000   15.000000   15.000000   15.000000   \nmean    86.631333   95.818000   97.297333  100.286667  106.876667  102.767333   \nstd     16.582159   14.217541   10.293833   12.360609   14.531580   10.849653   \nmin     59.120000   69.450000   82.020000   81.120000   88.750000   80.270000   \n25%     78.645000   86.050000   89.775000   93.895000   98.075000   97.800000   \n50%     86.330000   96.800000   98.400000  100.950000  104.570000  104.790000   \n75%     96.365000  102.225000  102.215000  104.920000  110.665000  107.595000   \nmax    126.690000  125.610000  116.960000  129.250000  149.900000  121.130000   \n\n           DIC20       ENE21       FEB21  \ncount   15.00000   15.000000   15.000000  \nmean    97.95600   92.269333  110.856667  \nstd     14.53777    8.948793   14.467094  \nmin     58.85000   76.330000   84.900000  \n25%     94.01500   85.700000  103.360000  \n50%    103.49000   92.920000  112.230000  \n75%    106.20500  100.325000  116.455000  \nmax    117.09000  103.310000  138.440000  \n\n[8 rows x 218 columns]",
      "text/html": "<div>\n<style scoped>\n    .dataframe tbody tr th:only-of-type {\n        vertical-align: middle;\n    }\n\n    .dataframe tbody tr th {\n        vertical-align: top;\n    }\n\n    .dataframe thead th {\n        text-align: right;\n    }\n</style>\n<table border=\"1\" class=\"dataframe\">\n  <thead>\n    <tr style=\"text-align: right;\">\n      <th></th>\n      <th>Nivel</th>\n      <th>ENE03</th>\n      <th>FEB03</th>\n      <th>MAR03</th>\n      <th>ABR03</th>\n      <th>MAY03</th>\n      <th>JUN03</th>\n      <th>JUL03</th>\n      <th>AGO03</th>\n      <th>SEP03</th>\n      <th>...</th>\n      <th>MAY20</th>\n      <th>JUN20</th>\n      <th>JUL20</th>\n      <th>AGO20</th>\n      <th>SEP20</th>\n      <th>OCT20</th>\n      <th>NOV20</th>\n      <th>DIC20</th>\n      <th>ENE21</th>\n      <th>FEB21</th>\n    </tr>\n  </thead>\n  <tbody>\n    <tr>\n      <th>count</th>\n      <td>15.0</td>\n      <td>15.000000</td>\n      <td>15.000000</td>\n      <td>15.000000</td>\n      <td>15.000000</td>\n      <td>15.000000</td>\n      <td>15.000000</td>\n      <td>15.000000</td>\n      <td>15.000000</td>\n      <td>15.000000</td>\n      <td>...</td>\n      <td>15.00000</td>\n      <td>15.000000</td>\n      <td>15.000000</td>\n      <td>15.000000</td>\n      <td>15.000000</td>\n      <td>15.000000</td>\n      <td>15.000000</td>\n      <td>15.00000</td>\n      <td>15.000000</td>\n      <td>15.000000</td>\n    </tr>\n    <tr>\n      <th>mean</th>\n      <td>1.0</td>\n      <td>109.894667</td>\n      <td>110.592000</td>\n      <td>107.561333</td>\n      <td>103.938667</td>\n      <td>99.491333</td>\n      <td>102.188000</td>\n      <td>104.813333</td>\n      <td>96.472667</td>\n      <td>98.510667</td>\n      <td>...</td>\n      <td>73.36400</td>\n      <td>86.631333</td>\n      <td>95.818000</td>\n      <td>97.297333</td>\n      <td>100.286667</td>\n      <td>106.876667</td>\n      <td>102.767333</td>\n      <td>97.95600</td>\n      <td>92.269333</td>\n      <td>110.856667</td>\n    </tr>\n    <tr>\n      <th>std</th>\n      <td>0.0</td>\n      <td>11.224991</td>\n      <td>14.071349</td>\n      <td>14.242913</td>\n      <td>10.034988</td>\n      <td>12.588717</td>\n      <td>10.450274</td>\n      <td>6.675658</td>\n      <td>9.720181</td>\n      <td>7.638541</td>\n      <td>...</td>\n      <td>19.70292</td>\n      <td>16.582159</td>\n      <td>14.217541</td>\n      <td>10.293833</td>\n      <td>12.360609</td>\n      <td>14.531580</td>\n      <td>10.849653</td>\n      <td>14.53777</td>\n      <td>8.948793</td>\n      <td>14.467094</td>\n    </tr>\n    <tr>\n      <th>min</th>\n      <td>1.0</td>\n      <td>86.000000</td>\n      <td>93.150000</td>\n      <td>76.250000</td>\n      <td>80.090000</td>\n      <td>63.080000</td>\n      <td>74.910000</td>\n      <td>85.230000</td>\n      <td>74.250000</td>\n      <td>81.240000</td>\n      <td>...</td>\n      <td>46.21000</td>\n      <td>59.120000</td>\n      <td>69.450000</td>\n      <td>82.020000</td>\n      <td>81.120000</td>\n      <td>88.750000</td>\n      <td>80.270000</td>\n      <td>58.85000</td>\n      <td>76.330000</td>\n      <td>84.900000</td>\n    </tr>\n    <tr>\n      <th>25%</th>\n      <td>1.0</td>\n      <td>104.575000</td>\n      <td>102.915000</td>\n      <td>102.395000</td>\n      <td>100.240000</td>\n      <td>98.440000</td>\n      <td>99.180000</td>\n      <td>103.110000</td>\n      <td>93.135000</td>\n      <td>94.340000</td>\n      <td>...</td>\n      <td>59.56000</td>\n      <td>78.645000</td>\n      <td>86.050000</td>\n      <td>89.775000</td>\n      <td>93.895000</td>\n      <td>98.075000</td>\n      <td>97.800000</td>\n      <td>94.01500</td>\n      <td>85.700000</td>\n      <td>103.360000</td>\n    </tr>\n    <tr>\n      <th>50%</th>\n      <td>1.0</td>\n      <td>111.280000</td>\n      <td>107.560000</td>\n      <td>107.720000</td>\n      <td>103.860000</td>\n      <td>101.780000</td>\n      <td>100.800000</td>\n      <td>106.150000</td>\n      <td>98.700000</td>\n      <td>101.290000</td>\n      <td>...</td>\n      <td>67.06000</td>\n      <td>86.330000</td>\n      <td>96.800000</td>\n      <td>98.400000</td>\n      <td>100.950000</td>\n      <td>104.570000</td>\n      <td>104.790000</td>\n      <td>103.49000</td>\n      <td>92.920000</td>\n      <td>112.230000</td>\n    </tr>\n    <tr>\n      <th>75%</th>\n      <td>1.0</td>\n      <td>114.840000</td>\n      <td>112.570000</td>\n      <td>111.710000</td>\n      <td>109.640000</td>\n      <td>106.165000</td>\n      <td>106.015000</td>\n      <td>107.975000</td>\n      <td>101.240000</td>\n      <td>103.065000</td>\n      <td>...</td>\n      <td>85.91500</td>\n      <td>96.365000</td>\n      <td>102.225000</td>\n      <td>102.215000</td>\n      <td>104.920000</td>\n      <td>110.665000</td>\n      <td>107.595000</td>\n      <td>106.20500</td>\n      <td>100.325000</td>\n      <td>116.455000</td>\n    </tr>\n    <tr>\n      <th>max</th>\n      <td>1.0</td>\n      <td>133.490000</td>\n      <td>149.600000</td>\n      <td>142.030000</td>\n      <td>122.870000</td>\n      <td>114.440000</td>\n      <td>121.670000</td>\n      <td>114.010000</td>\n      <td>113.820000</td>\n      <td>109.580000</td>\n      <td>...</td>\n      <td>118.14000</td>\n      <td>126.690000</td>\n      <td>125.610000</td>\n      <td>116.960000</td>\n      <td>129.250000</td>\n      <td>149.900000</td>\n      <td>121.130000</td>\n      <td>117.09000</td>\n      <td>103.310000</td>\n      <td>138.440000</td>\n    </tr>\n  </tbody>\n</table>\n<p>8 rows × 218 columns</p>\n</div>"
     },
     "execution_count": 189,
     "metadata": {},
     "output_type": "execute_result"
    }
   ],
   "source": [
    "index1.describe()"
   ]
  },
  {
   "cell_type": "code",
   "execution_count": 190,
   "metadata": {
    "pycharm": {
     "name": "#%%\n"
    }
   },
   "outputs": [
    {
     "data": {
      "text/plain": "       Nivel       ENE03       FEB03       MAR03      ABR03       MAY03  \\\ncount   56.0   56.000000   56.000000   56.000000   56.00000   56.000000   \nmean     2.0  106.349286  111.133393  105.551607  100.64125   99.684464   \nstd      0.0   18.959392   18.636578   17.479455   13.64025   16.628190   \nmin      2.0   28.680000   59.220000   76.090000   51.26000   14.820000   \n25%      2.0  100.000000  102.357500   98.535000   96.02750   96.720000   \n50%      2.0  105.920000  108.345000  103.050000  101.34500   99.910000   \n75%      2.0  114.802500  114.222500  110.957500  107.19000  105.157500   \nmax      2.0  170.390000  206.840000  192.100000  133.84000  150.760000   \n\n            JUN03       JUL03       AGO03       SEP03  ...       MAY20  \\\ncount   56.000000   56.000000   56.000000   56.000000  ...   56.000000   \nmean   104.212143  101.221250   90.198571   94.057857  ...   69.386964   \nstd     11.926983   19.098781   22.284380   19.770578  ...   21.548476   \nmin     74.910000    0.000000    0.000000    0.000000  ...   15.340000   \n25%     98.222500   99.452500   88.172500   88.550000  ...   56.730000   \n50%    101.325000  102.990000   95.615000   99.155000  ...   67.000000   \n75%    107.305000  106.285000  101.350000  104.517500  ...   81.660000   \nmax    156.460000  159.400000  125.830000  127.350000  ...  128.760000   \n\n            JUN20       JUL20       AGO20       SEP20       OCT20       NOV20  \\\ncount   56.000000   56.000000   56.000000   56.000000   56.000000   56.000000   \nmean    90.714286   97.764464   98.228750  106.518393  106.720000  105.515357   \nstd     32.339623   22.394071   27.990406   27.960393   21.637458   21.019091   \nmin     18.990000   46.890000   42.520000   37.480000   36.440000   56.290000   \n25%     80.482500   87.037500   85.725000   94.485000   94.450000   96.260000   \n50%     90.750000   97.115000   95.990000  103.845000  104.795000  104.250000   \n75%     97.610000  110.132500  106.497500  110.232500  116.030000  111.290000   \nmax    269.140000  160.470000  250.130000  266.360000  177.940000  204.900000   \n\n            DIC20       ENE21       FEB21  \ncount   56.000000   56.000000   56.000000  \nmean   105.705536  100.408750  109.627857  \nstd     23.662779   21.809645   18.888563  \nmin     49.230000   35.890000   52.880000  \n25%     93.235000   88.600000  104.077500  \n50%    105.980000   98.795000  110.040000  \n75%    115.392500  109.280000  120.330000  \nmax    186.110000  188.430000  147.470000  \n\n[8 rows x 218 columns]",
      "text/html": "<div>\n<style scoped>\n    .dataframe tbody tr th:only-of-type {\n        vertical-align: middle;\n    }\n\n    .dataframe tbody tr th {\n        vertical-align: top;\n    }\n\n    .dataframe thead th {\n        text-align: right;\n    }\n</style>\n<table border=\"1\" class=\"dataframe\">\n  <thead>\n    <tr style=\"text-align: right;\">\n      <th></th>\n      <th>Nivel</th>\n      <th>ENE03</th>\n      <th>FEB03</th>\n      <th>MAR03</th>\n      <th>ABR03</th>\n      <th>MAY03</th>\n      <th>JUN03</th>\n      <th>JUL03</th>\n      <th>AGO03</th>\n      <th>SEP03</th>\n      <th>...</th>\n      <th>MAY20</th>\n      <th>JUN20</th>\n      <th>JUL20</th>\n      <th>AGO20</th>\n      <th>SEP20</th>\n      <th>OCT20</th>\n      <th>NOV20</th>\n      <th>DIC20</th>\n      <th>ENE21</th>\n      <th>FEB21</th>\n    </tr>\n  </thead>\n  <tbody>\n    <tr>\n      <th>count</th>\n      <td>56.0</td>\n      <td>56.000000</td>\n      <td>56.000000</td>\n      <td>56.000000</td>\n      <td>56.00000</td>\n      <td>56.000000</td>\n      <td>56.000000</td>\n      <td>56.000000</td>\n      <td>56.000000</td>\n      <td>56.000000</td>\n      <td>...</td>\n      <td>56.000000</td>\n      <td>56.000000</td>\n      <td>56.000000</td>\n      <td>56.000000</td>\n      <td>56.000000</td>\n      <td>56.000000</td>\n      <td>56.000000</td>\n      <td>56.000000</td>\n      <td>56.000000</td>\n      <td>56.000000</td>\n    </tr>\n    <tr>\n      <th>mean</th>\n      <td>2.0</td>\n      <td>106.349286</td>\n      <td>111.133393</td>\n      <td>105.551607</td>\n      <td>100.64125</td>\n      <td>99.684464</td>\n      <td>104.212143</td>\n      <td>101.221250</td>\n      <td>90.198571</td>\n      <td>94.057857</td>\n      <td>...</td>\n      <td>69.386964</td>\n      <td>90.714286</td>\n      <td>97.764464</td>\n      <td>98.228750</td>\n      <td>106.518393</td>\n      <td>106.720000</td>\n      <td>105.515357</td>\n      <td>105.705536</td>\n      <td>100.408750</td>\n      <td>109.627857</td>\n    </tr>\n    <tr>\n      <th>std</th>\n      <td>0.0</td>\n      <td>18.959392</td>\n      <td>18.636578</td>\n      <td>17.479455</td>\n      <td>13.64025</td>\n      <td>16.628190</td>\n      <td>11.926983</td>\n      <td>19.098781</td>\n      <td>22.284380</td>\n      <td>19.770578</td>\n      <td>...</td>\n      <td>21.548476</td>\n      <td>32.339623</td>\n      <td>22.394071</td>\n      <td>27.990406</td>\n      <td>27.960393</td>\n      <td>21.637458</td>\n      <td>21.019091</td>\n      <td>23.662779</td>\n      <td>21.809645</td>\n      <td>18.888563</td>\n    </tr>\n    <tr>\n      <th>min</th>\n      <td>2.0</td>\n      <td>28.680000</td>\n      <td>59.220000</td>\n      <td>76.090000</td>\n      <td>51.26000</td>\n      <td>14.820000</td>\n      <td>74.910000</td>\n      <td>0.000000</td>\n      <td>0.000000</td>\n      <td>0.000000</td>\n      <td>...</td>\n      <td>15.340000</td>\n      <td>18.990000</td>\n      <td>46.890000</td>\n      <td>42.520000</td>\n      <td>37.480000</td>\n      <td>36.440000</td>\n      <td>56.290000</td>\n      <td>49.230000</td>\n      <td>35.890000</td>\n      <td>52.880000</td>\n    </tr>\n    <tr>\n      <th>25%</th>\n      <td>2.0</td>\n      <td>100.000000</td>\n      <td>102.357500</td>\n      <td>98.535000</td>\n      <td>96.02750</td>\n      <td>96.720000</td>\n      <td>98.222500</td>\n      <td>99.452500</td>\n      <td>88.172500</td>\n      <td>88.550000</td>\n      <td>...</td>\n      <td>56.730000</td>\n      <td>80.482500</td>\n      <td>87.037500</td>\n      <td>85.725000</td>\n      <td>94.485000</td>\n      <td>94.450000</td>\n      <td>96.260000</td>\n      <td>93.235000</td>\n      <td>88.600000</td>\n      <td>104.077500</td>\n    </tr>\n    <tr>\n      <th>50%</th>\n      <td>2.0</td>\n      <td>105.920000</td>\n      <td>108.345000</td>\n      <td>103.050000</td>\n      <td>101.34500</td>\n      <td>99.910000</td>\n      <td>101.325000</td>\n      <td>102.990000</td>\n      <td>95.615000</td>\n      <td>99.155000</td>\n      <td>...</td>\n      <td>67.000000</td>\n      <td>90.750000</td>\n      <td>97.115000</td>\n      <td>95.990000</td>\n      <td>103.845000</td>\n      <td>104.795000</td>\n      <td>104.250000</td>\n      <td>105.980000</td>\n      <td>98.795000</td>\n      <td>110.040000</td>\n    </tr>\n    <tr>\n      <th>75%</th>\n      <td>2.0</td>\n      <td>114.802500</td>\n      <td>114.222500</td>\n      <td>110.957500</td>\n      <td>107.19000</td>\n      <td>105.157500</td>\n      <td>107.305000</td>\n      <td>106.285000</td>\n      <td>101.350000</td>\n      <td>104.517500</td>\n      <td>...</td>\n      <td>81.660000</td>\n      <td>97.610000</td>\n      <td>110.132500</td>\n      <td>106.497500</td>\n      <td>110.232500</td>\n      <td>116.030000</td>\n      <td>111.290000</td>\n      <td>115.392500</td>\n      <td>109.280000</td>\n      <td>120.330000</td>\n    </tr>\n    <tr>\n      <th>max</th>\n      <td>2.0</td>\n      <td>170.390000</td>\n      <td>206.840000</td>\n      <td>192.100000</td>\n      <td>133.84000</td>\n      <td>150.760000</td>\n      <td>156.460000</td>\n      <td>159.400000</td>\n      <td>125.830000</td>\n      <td>127.350000</td>\n      <td>...</td>\n      <td>128.760000</td>\n      <td>269.140000</td>\n      <td>160.470000</td>\n      <td>250.130000</td>\n      <td>266.360000</td>\n      <td>177.940000</td>\n      <td>204.900000</td>\n      <td>186.110000</td>\n      <td>188.430000</td>\n      <td>147.470000</td>\n    </tr>\n  </tbody>\n</table>\n<p>8 rows × 218 columns</p>\n</div>"
     },
     "execution_count": 190,
     "metadata": {},
     "output_type": "execute_result"
    }
   ],
   "source": [
    "index2.describe()"
   ]
  },
  {
   "cell_type": "code",
   "execution_count": 191,
   "outputs": [
    {
     "data": {
      "text/plain": "       Nivel       ENE03       FEB03       MAR03       ABR03       MAY03  \\\ncount  125.0  125.000000  125.000000  125.000000  125.000000  125.000000   \nmean     3.0  110.360400  112.081760  106.611520  103.981440  100.630160   \nstd      0.0   23.621095   19.639434   19.946028   17.302794   18.496489   \nmin      3.0    8.360000   59.220000   46.360000   51.260000   14.890000   \n25%      3.0   99.820000  101.160000   96.830000   95.550000   95.620000   \n50%      3.0  106.860000  107.910000  102.850000  102.030000  100.000000   \n75%      3.0  116.140000  118.010000  110.160000  112.330000  105.950000   \nmax      3.0  190.250000  212.260000  195.830000  176.280000  154.210000   \n\n            JUN03       JUL03       AGO03       SEP03  ...       MAY20  \\\ncount  125.000000  125.000000  125.000000  125.000000  ...  123.000000   \nmean   103.824480  103.257280   93.842400   97.916720  ...   69.758374   \nstd     15.067338   19.996682   20.201081   19.827148  ...   23.722747   \nmin     68.020000    0.000000    0.000000    0.000000  ...    0.000000   \n25%     96.760000   98.890000   89.580000   93.440000  ...   55.185000   \n50%    102.240000  103.840000   97.330000   99.790000  ...   70.610000   \n75%    109.150000  107.660000  102.830000  106.680000  ...   82.620000   \nmax    156.460000  187.700000  155.670000  197.000000  ...  131.850000   \n\n            JUN20       JUL20       AGO20       SEP20       OCT20      NOV20  \\\ncount  123.000000  123.000000  123.000000  123.000000  123.000000  123.00000   \nmean    89.964065   95.087154   94.812927  103.000407  104.957642  103.35374   \nstd     30.092015   25.386721   24.929928   26.295047   23.356406   21.92611   \nmin      0.000000    0.000000    0.000000    0.000000    7.800000    0.00000   \n25%     78.355000   84.845000   85.295000   91.600000   92.765000   96.18500   \n50%     91.350000   97.770000   94.420000  102.010000  103.630000  105.55000   \n75%    102.530000  106.140000  106.185000  109.750000  112.890000  112.43500   \nmax    269.140000  160.470000  250.130000  266.360000  187.170000  204.90000   \n\n            DIC20       ENE21       FEB21  \ncount  123.000000  123.000000  123.000000  \nmean   104.492195   99.501220  106.623089  \nstd     27.592211   29.375918   23.062951  \nmin      0.000000    0.000000    0.000000  \n25%     90.850000   86.470000   98.005000  \n50%    103.210000   95.610000  108.130000  \n75%    114.485000  109.935000  118.990000  \nmax    224.450000  278.590000  179.610000  \n\n[8 rows x 218 columns]",
      "text/html": "<div>\n<style scoped>\n    .dataframe tbody tr th:only-of-type {\n        vertical-align: middle;\n    }\n\n    .dataframe tbody tr th {\n        vertical-align: top;\n    }\n\n    .dataframe thead th {\n        text-align: right;\n    }\n</style>\n<table border=\"1\" class=\"dataframe\">\n  <thead>\n    <tr style=\"text-align: right;\">\n      <th></th>\n      <th>Nivel</th>\n      <th>ENE03</th>\n      <th>FEB03</th>\n      <th>MAR03</th>\n      <th>ABR03</th>\n      <th>MAY03</th>\n      <th>JUN03</th>\n      <th>JUL03</th>\n      <th>AGO03</th>\n      <th>SEP03</th>\n      <th>...</th>\n      <th>MAY20</th>\n      <th>JUN20</th>\n      <th>JUL20</th>\n      <th>AGO20</th>\n      <th>SEP20</th>\n      <th>OCT20</th>\n      <th>NOV20</th>\n      <th>DIC20</th>\n      <th>ENE21</th>\n      <th>FEB21</th>\n    </tr>\n  </thead>\n  <tbody>\n    <tr>\n      <th>count</th>\n      <td>125.0</td>\n      <td>125.000000</td>\n      <td>125.000000</td>\n      <td>125.000000</td>\n      <td>125.000000</td>\n      <td>125.000000</td>\n      <td>125.000000</td>\n      <td>125.000000</td>\n      <td>125.000000</td>\n      <td>125.000000</td>\n      <td>...</td>\n      <td>123.000000</td>\n      <td>123.000000</td>\n      <td>123.000000</td>\n      <td>123.000000</td>\n      <td>123.000000</td>\n      <td>123.000000</td>\n      <td>123.00000</td>\n      <td>123.000000</td>\n      <td>123.000000</td>\n      <td>123.000000</td>\n    </tr>\n    <tr>\n      <th>mean</th>\n      <td>3.0</td>\n      <td>110.360400</td>\n      <td>112.081760</td>\n      <td>106.611520</td>\n      <td>103.981440</td>\n      <td>100.630160</td>\n      <td>103.824480</td>\n      <td>103.257280</td>\n      <td>93.842400</td>\n      <td>97.916720</td>\n      <td>...</td>\n      <td>69.758374</td>\n      <td>89.964065</td>\n      <td>95.087154</td>\n      <td>94.812927</td>\n      <td>103.000407</td>\n      <td>104.957642</td>\n      <td>103.35374</td>\n      <td>104.492195</td>\n      <td>99.501220</td>\n      <td>106.623089</td>\n    </tr>\n    <tr>\n      <th>std</th>\n      <td>0.0</td>\n      <td>23.621095</td>\n      <td>19.639434</td>\n      <td>19.946028</td>\n      <td>17.302794</td>\n      <td>18.496489</td>\n      <td>15.067338</td>\n      <td>19.996682</td>\n      <td>20.201081</td>\n      <td>19.827148</td>\n      <td>...</td>\n      <td>23.722747</td>\n      <td>30.092015</td>\n      <td>25.386721</td>\n      <td>24.929928</td>\n      <td>26.295047</td>\n      <td>23.356406</td>\n      <td>21.92611</td>\n      <td>27.592211</td>\n      <td>29.375918</td>\n      <td>23.062951</td>\n    </tr>\n    <tr>\n      <th>min</th>\n      <td>3.0</td>\n      <td>8.360000</td>\n      <td>59.220000</td>\n      <td>46.360000</td>\n      <td>51.260000</td>\n      <td>14.890000</td>\n      <td>68.020000</td>\n      <td>0.000000</td>\n      <td>0.000000</td>\n      <td>0.000000</td>\n      <td>...</td>\n      <td>0.000000</td>\n      <td>0.000000</td>\n      <td>0.000000</td>\n      <td>0.000000</td>\n      <td>0.000000</td>\n      <td>7.800000</td>\n      <td>0.00000</td>\n      <td>0.000000</td>\n      <td>0.000000</td>\n      <td>0.000000</td>\n    </tr>\n    <tr>\n      <th>25%</th>\n      <td>3.0</td>\n      <td>99.820000</td>\n      <td>101.160000</td>\n      <td>96.830000</td>\n      <td>95.550000</td>\n      <td>95.620000</td>\n      <td>96.760000</td>\n      <td>98.890000</td>\n      <td>89.580000</td>\n      <td>93.440000</td>\n      <td>...</td>\n      <td>55.185000</td>\n      <td>78.355000</td>\n      <td>84.845000</td>\n      <td>85.295000</td>\n      <td>91.600000</td>\n      <td>92.765000</td>\n      <td>96.18500</td>\n      <td>90.850000</td>\n      <td>86.470000</td>\n      <td>98.005000</td>\n    </tr>\n    <tr>\n      <th>50%</th>\n      <td>3.0</td>\n      <td>106.860000</td>\n      <td>107.910000</td>\n      <td>102.850000</td>\n      <td>102.030000</td>\n      <td>100.000000</td>\n      <td>102.240000</td>\n      <td>103.840000</td>\n      <td>97.330000</td>\n      <td>99.790000</td>\n      <td>...</td>\n      <td>70.610000</td>\n      <td>91.350000</td>\n      <td>97.770000</td>\n      <td>94.420000</td>\n      <td>102.010000</td>\n      <td>103.630000</td>\n      <td>105.55000</td>\n      <td>103.210000</td>\n      <td>95.610000</td>\n      <td>108.130000</td>\n    </tr>\n    <tr>\n      <th>75%</th>\n      <td>3.0</td>\n      <td>116.140000</td>\n      <td>118.010000</td>\n      <td>110.160000</td>\n      <td>112.330000</td>\n      <td>105.950000</td>\n      <td>109.150000</td>\n      <td>107.660000</td>\n      <td>102.830000</td>\n      <td>106.680000</td>\n      <td>...</td>\n      <td>82.620000</td>\n      <td>102.530000</td>\n      <td>106.140000</td>\n      <td>106.185000</td>\n      <td>109.750000</td>\n      <td>112.890000</td>\n      <td>112.43500</td>\n      <td>114.485000</td>\n      <td>109.935000</td>\n      <td>118.990000</td>\n    </tr>\n    <tr>\n      <th>max</th>\n      <td>3.0</td>\n      <td>190.250000</td>\n      <td>212.260000</td>\n      <td>195.830000</td>\n      <td>176.280000</td>\n      <td>154.210000</td>\n      <td>156.460000</td>\n      <td>187.700000</td>\n      <td>155.670000</td>\n      <td>197.000000</td>\n      <td>...</td>\n      <td>131.850000</td>\n      <td>269.140000</td>\n      <td>160.470000</td>\n      <td>250.130000</td>\n      <td>266.360000</td>\n      <td>187.170000</td>\n      <td>204.90000</td>\n      <td>224.450000</td>\n      <td>278.590000</td>\n      <td>179.610000</td>\n    </tr>\n  </tbody>\n</table>\n<p>8 rows × 218 columns</p>\n</div>"
     },
     "execution_count": 191,
     "metadata": {},
     "output_type": "execute_result"
    }
   ],
   "source": [
    "index3.describe()"
   ],
   "metadata": {
    "collapsed": false,
    "pycharm": {
     "name": "#%%\n"
    }
   }
  }
 ],
 "metadata": {
  "kernelspec": {
   "display_name": "Python 3",
   "language": "python",
   "name": "python3"
  },
  "language_info": {
   "codemirror_mode": {
    "name": "ipython",
    "version": 3
   },
   "file_extension": ".py",
   "mimetype": "text/x-python",
   "name": "python",
   "nbconvert_exporter": "python",
   "pygments_lexer": "ipython3",
   "version": "3.8.5"
  }
 },
 "nbformat": 4,
 "nbformat_minor": 1
}